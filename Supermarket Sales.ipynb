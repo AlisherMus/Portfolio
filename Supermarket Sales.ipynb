{
 "cells": [
  {
   "cell_type": "code",
   "execution_count": 5,
   "metadata": {
    "_cell_guid": "b1076dfc-b9ad-4769-8c92-a6c4dae69d19",
    "_uuid": "8f2839f25d086af736a60e9eeb907d3b93b6e0e5",
    "editable": false,
    "execution": {
     "iopub.execute_input": "2022-11-16T16:48:21.933017Z",
     "iopub.status.busy": "2022-11-16T16:48:21.932411Z",
     "iopub.status.idle": "2022-11-16T16:48:22.150034Z",
     "shell.execute_reply": "2022-11-16T16:48:22.148830Z",
     "shell.execute_reply.started": "2022-11-16T16:48:21.932975Z"
    }
   },
   "outputs": [],
   "source": [
    "import numpy as np # linear algebra\n",
    "import pandas as pd # data processing, CSV file I/O (e.g. pd.read_csv)\n",
    "import matplotlib.pyplot as plt # data visualization\n",
    "import seaborn as sns # statistical data visualization\n",
    "%matplotlib inline\n",
    "\n",
    "# Input data files are available in the \"../input/\" directory.\n",
    "# For example, running this (by clicking run or pressing Shift+Enter) will list all files under the input directory\n",
    "\n",
    "import os\n",
    "for dirname, _, filenames in os.walk('/kaggle/input'):\n",
    "    for filename in filenames:\n",
    "        print(os.path.join(dirname, filename))"
   ]
  },
  {
   "cell_type": "code",
   "execution_count": 6,
   "metadata": {
    "editable": false,
    "execution": {
     "iopub.execute_input": "2022-11-16T16:48:38.144587Z",
     "iopub.status.busy": "2022-11-16T16:48:38.144121Z",
     "iopub.status.idle": "2022-11-16T16:48:38.151467Z",
     "shell.execute_reply": "2022-11-16T16:48:38.150033Z",
     "shell.execute_reply.started": "2022-11-16T16:48:38.144549Z"
    }
   },
   "outputs": [],
   "source": [
    "import warnings\n",
    "\n",
    "warnings.filterwarnings('ignore')"
   ]
  },
  {
   "cell_type": "code",
   "execution_count": 12,
   "metadata": {
    "editable": false,
    "execution": {
     "iopub.execute_input": "2022-11-16T16:52:49.131991Z",
     "iopub.status.busy": "2022-11-16T16:52:49.131510Z",
     "iopub.status.idle": "2022-11-16T16:52:49.167461Z",
     "shell.execute_reply": "2022-11-16T16:52:49.166253Z",
     "shell.execute_reply.started": "2022-11-16T16:52:49.131953Z"
    }
   },
   "outputs": [],
   "source": [
    "data = '../input/supermarket-sales/supermarket_sales - Sheet1.csv'\n",
    "\n",
    "df = pd.read_csv(data)"
   ]
  },
  {
   "cell_type": "code",
   "execution_count": 13,
   "metadata": {
    "editable": false,
    "execution": {
     "iopub.execute_input": "2022-11-16T16:53:12.600854Z",
     "iopub.status.busy": "2022-11-16T16:53:12.600299Z",
     "iopub.status.idle": "2022-11-16T16:53:12.612825Z",
     "shell.execute_reply": "2022-11-16T16:53:12.611157Z",
     "shell.execute_reply.started": "2022-11-16T16:53:12.600813Z"
    }
   },
   "outputs": [
    {
     "data": {
      "text/plain": [
       "(1000, 17)"
      ]
     },
     "execution_count": 13,
     "metadata": {},
     "output_type": "execute_result"
    }
   ],
   "source": [
    "df.shape"
   ]
  },
  {
   "cell_type": "code",
   "execution_count": 14,
   "metadata": {
    "editable": false,
    "execution": {
     "iopub.execute_input": "2022-11-16T16:53:27.008863Z",
     "iopub.status.busy": "2022-11-16T16:53:27.008429Z",
     "iopub.status.idle": "2022-11-16T16:53:27.042839Z",
     "shell.execute_reply": "2022-11-16T16:53:27.041663Z",
     "shell.execute_reply.started": "2022-11-16T16:53:27.008829Z"
    }
   },
   "outputs": [
    {
     "data": {
      "text/html": [
       "<div>\n",
       "<style scoped>\n",
       "    .dataframe tbody tr th:only-of-type {\n",
       "        vertical-align: middle;\n",
       "    }\n",
       "\n",
       "    .dataframe tbody tr th {\n",
       "        vertical-align: top;\n",
       "    }\n",
       "\n",
       "    .dataframe thead th {\n",
       "        text-align: right;\n",
       "    }\n",
       "</style>\n",
       "<table border=\"1\" class=\"dataframe\">\n",
       "  <thead>\n",
       "    <tr style=\"text-align: right;\">\n",
       "      <th></th>\n",
       "      <th>Invoice ID</th>\n",
       "      <th>Branch</th>\n",
       "      <th>City</th>\n",
       "      <th>Customer type</th>\n",
       "      <th>Gender</th>\n",
       "      <th>Product line</th>\n",
       "      <th>Unit price</th>\n",
       "      <th>Quantity</th>\n",
       "      <th>Tax 5%</th>\n",
       "      <th>Total</th>\n",
       "      <th>Date</th>\n",
       "      <th>Time</th>\n",
       "      <th>Payment</th>\n",
       "      <th>cogs</th>\n",
       "      <th>gross margin percentage</th>\n",
       "      <th>gross income</th>\n",
       "      <th>Rating</th>\n",
       "    </tr>\n",
       "  </thead>\n",
       "  <tbody>\n",
       "    <tr>\n",
       "      <th>0</th>\n",
       "      <td>750-67-8428</td>\n",
       "      <td>A</td>\n",
       "      <td>Yangon</td>\n",
       "      <td>Member</td>\n",
       "      <td>Female</td>\n",
       "      <td>Health and beauty</td>\n",
       "      <td>74.69</td>\n",
       "      <td>7</td>\n",
       "      <td>26.1415</td>\n",
       "      <td>548.9715</td>\n",
       "      <td>1/5/2019</td>\n",
       "      <td>13:08</td>\n",
       "      <td>Ewallet</td>\n",
       "      <td>522.83</td>\n",
       "      <td>4.761905</td>\n",
       "      <td>26.1415</td>\n",
       "      <td>9.1</td>\n",
       "    </tr>\n",
       "    <tr>\n",
       "      <th>1</th>\n",
       "      <td>226-31-3081</td>\n",
       "      <td>C</td>\n",
       "      <td>Naypyitaw</td>\n",
       "      <td>Normal</td>\n",
       "      <td>Female</td>\n",
       "      <td>Electronic accessories</td>\n",
       "      <td>15.28</td>\n",
       "      <td>5</td>\n",
       "      <td>3.8200</td>\n",
       "      <td>80.2200</td>\n",
       "      <td>3/8/2019</td>\n",
       "      <td>10:29</td>\n",
       "      <td>Cash</td>\n",
       "      <td>76.40</td>\n",
       "      <td>4.761905</td>\n",
       "      <td>3.8200</td>\n",
       "      <td>9.6</td>\n",
       "    </tr>\n",
       "    <tr>\n",
       "      <th>2</th>\n",
       "      <td>631-41-3108</td>\n",
       "      <td>A</td>\n",
       "      <td>Yangon</td>\n",
       "      <td>Normal</td>\n",
       "      <td>Male</td>\n",
       "      <td>Home and lifestyle</td>\n",
       "      <td>46.33</td>\n",
       "      <td>7</td>\n",
       "      <td>16.2155</td>\n",
       "      <td>340.5255</td>\n",
       "      <td>3/3/2019</td>\n",
       "      <td>13:23</td>\n",
       "      <td>Credit card</td>\n",
       "      <td>324.31</td>\n",
       "      <td>4.761905</td>\n",
       "      <td>16.2155</td>\n",
       "      <td>7.4</td>\n",
       "    </tr>\n",
       "    <tr>\n",
       "      <th>3</th>\n",
       "      <td>123-19-1176</td>\n",
       "      <td>A</td>\n",
       "      <td>Yangon</td>\n",
       "      <td>Member</td>\n",
       "      <td>Male</td>\n",
       "      <td>Health and beauty</td>\n",
       "      <td>58.22</td>\n",
       "      <td>8</td>\n",
       "      <td>23.2880</td>\n",
       "      <td>489.0480</td>\n",
       "      <td>1/27/2019</td>\n",
       "      <td>20:33</td>\n",
       "      <td>Ewallet</td>\n",
       "      <td>465.76</td>\n",
       "      <td>4.761905</td>\n",
       "      <td>23.2880</td>\n",
       "      <td>8.4</td>\n",
       "    </tr>\n",
       "    <tr>\n",
       "      <th>4</th>\n",
       "      <td>373-73-7910</td>\n",
       "      <td>A</td>\n",
       "      <td>Yangon</td>\n",
       "      <td>Normal</td>\n",
       "      <td>Male</td>\n",
       "      <td>Sports and travel</td>\n",
       "      <td>86.31</td>\n",
       "      <td>7</td>\n",
       "      <td>30.2085</td>\n",
       "      <td>634.3785</td>\n",
       "      <td>2/8/2019</td>\n",
       "      <td>10:37</td>\n",
       "      <td>Ewallet</td>\n",
       "      <td>604.17</td>\n",
       "      <td>4.761905</td>\n",
       "      <td>30.2085</td>\n",
       "      <td>5.3</td>\n",
       "    </tr>\n",
       "  </tbody>\n",
       "</table>\n",
       "</div>"
      ],
      "text/plain": [
       "    Invoice ID Branch       City Customer type  Gender  \\\n",
       "0  750-67-8428      A     Yangon        Member  Female   \n",
       "1  226-31-3081      C  Naypyitaw        Normal  Female   \n",
       "2  631-41-3108      A     Yangon        Normal    Male   \n",
       "3  123-19-1176      A     Yangon        Member    Male   \n",
       "4  373-73-7910      A     Yangon        Normal    Male   \n",
       "\n",
       "             Product line  Unit price  Quantity   Tax 5%     Total       Date  \\\n",
       "0       Health and beauty       74.69         7  26.1415  548.9715   1/5/2019   \n",
       "1  Electronic accessories       15.28         5   3.8200   80.2200   3/8/2019   \n",
       "2      Home and lifestyle       46.33         7  16.2155  340.5255   3/3/2019   \n",
       "3       Health and beauty       58.22         8  23.2880  489.0480  1/27/2019   \n",
       "4       Sports and travel       86.31         7  30.2085  634.3785   2/8/2019   \n",
       "\n",
       "    Time      Payment    cogs  gross margin percentage  gross income  Rating  \n",
       "0  13:08      Ewallet  522.83                 4.761905       26.1415     9.1  \n",
       "1  10:29         Cash   76.40                 4.761905        3.8200     9.6  \n",
       "2  13:23  Credit card  324.31                 4.761905       16.2155     7.4  \n",
       "3  20:33      Ewallet  465.76                 4.761905       23.2880     8.4  \n",
       "4  10:37      Ewallet  604.17                 4.761905       30.2085     5.3  "
      ]
     },
     "execution_count": 14,
     "metadata": {},
     "output_type": "execute_result"
    }
   ],
   "source": [
    "df.head()"
   ]
  },
  {
   "cell_type": "code",
   "execution_count": 15,
   "metadata": {
    "editable": false,
    "execution": {
     "iopub.execute_input": "2022-11-16T16:53:43.231503Z",
     "iopub.status.busy": "2022-11-16T16:53:43.231039Z",
     "iopub.status.idle": "2022-11-16T16:53:43.265012Z",
     "shell.execute_reply": "2022-11-16T16:53:43.263556Z",
     "shell.execute_reply.started": "2022-11-16T16:53:43.231466Z"
    }
   },
   "outputs": [
    {
     "name": "stdout",
     "output_type": "stream",
     "text": [
      "<class 'pandas.core.frame.DataFrame'>\n",
      "RangeIndex: 1000 entries, 0 to 999\n",
      "Data columns (total 17 columns):\n",
      " #   Column                   Non-Null Count  Dtype  \n",
      "---  ------                   --------------  -----  \n",
      " 0   Invoice ID               1000 non-null   object \n",
      " 1   Branch                   1000 non-null   object \n",
      " 2   City                     1000 non-null   object \n",
      " 3   Customer type            1000 non-null   object \n",
      " 4   Gender                   1000 non-null   object \n",
      " 5   Product line             1000 non-null   object \n",
      " 6   Unit price               1000 non-null   float64\n",
      " 7   Quantity                 1000 non-null   int64  \n",
      " 8   Tax 5%                   1000 non-null   float64\n",
      " 9   Total                    1000 non-null   float64\n",
      " 10  Date                     1000 non-null   object \n",
      " 11  Time                     1000 non-null   object \n",
      " 12  Payment                  1000 non-null   object \n",
      " 13  cogs                     1000 non-null   float64\n",
      " 14  gross margin percentage  1000 non-null   float64\n",
      " 15  gross income             1000 non-null   float64\n",
      " 16  Rating                   1000 non-null   float64\n",
      "dtypes: float64(7), int64(1), object(9)\n",
      "memory usage: 132.9+ KB\n"
     ]
    }
   ],
   "source": [
    "df.info()"
   ]
  },
  {
   "cell_type": "code",
   "execution_count": 16,
   "metadata": {
    "editable": false,
    "execution": {
     "iopub.execute_input": "2022-11-16T16:54:02.445295Z",
     "iopub.status.busy": "2022-11-16T16:54:02.444776Z",
     "iopub.status.idle": "2022-11-16T16:54:02.489197Z",
     "shell.execute_reply": "2022-11-16T16:54:02.487478Z",
     "shell.execute_reply.started": "2022-11-16T16:54:02.445258Z"
    }
   },
   "outputs": [
    {
     "name": "stdout",
     "output_type": "stream",
     "text": [
      "750-67-8428    1\n",
      "642-61-4706    1\n",
      "816-72-8853    1\n",
      "491-38-3499    1\n",
      "322-02-2271    1\n",
      "              ..\n",
      "633-09-3463    1\n",
      "374-17-3652    1\n",
      "378-07-7001    1\n",
      "433-75-6987    1\n",
      "849-09-3807    1\n",
      "Name: Invoice ID, Length: 1000, dtype: int64\n",
      "A    340\n",
      "B    332\n",
      "C    328\n",
      "Name: Branch, dtype: int64\n",
      "Yangon       340\n",
      "Mandalay     332\n",
      "Naypyitaw    328\n",
      "Name: City, dtype: int64\n",
      "Member    501\n",
      "Normal    499\n",
      "Name: Customer type, dtype: int64\n",
      "Female    501\n",
      "Male      499\n",
      "Name: Gender, dtype: int64\n",
      "Fashion accessories       178\n",
      "Food and beverages        174\n",
      "Electronic accessories    170\n",
      "Sports and travel         166\n",
      "Home and lifestyle        160\n",
      "Health and beauty         152\n",
      "Name: Product line, dtype: int64\n",
      "83.77    3\n",
      "39.62    2\n",
      "24.74    2\n",
      "19.15    2\n",
      "73.47    2\n",
      "        ..\n",
      "57.95    1\n",
      "47.65    1\n",
      "42.82    1\n",
      "48.09    1\n",
      "88.34    1\n",
      "Name: Unit price, Length: 943, dtype: int64\n",
      "10    119\n",
      "1     112\n",
      "4     109\n",
      "7     102\n",
      "5     102\n",
      "6      98\n",
      "9      92\n",
      "2      91\n",
      "3      90\n",
      "8      85\n",
      "Name: Quantity, dtype: int64\n",
      "10.3260    2\n",
      "4.4640     2\n",
      "4.1540     2\n",
      "9.0045     2\n",
      "22.4280    2\n",
      "          ..\n",
      "7.2135     1\n",
      "19.5895    1\n",
      "26.9150    1\n",
      "24.2575    1\n",
      "30.9190    1\n",
      "Name: Tax 5%, Length: 990, dtype: int64\n",
      "216.8460    2\n",
      "93.7440     2\n",
      "87.2340     2\n",
      "189.0945    2\n",
      "470.9880    2\n",
      "           ..\n",
      "151.4835    1\n",
      "411.3795    1\n",
      "565.2150    1\n",
      "509.4075    1\n",
      "649.2990    1\n",
      "Name: Total, Length: 990, dtype: int64\n",
      "2/7/2019     20\n",
      "2/15/2019    19\n",
      "3/14/2019    18\n",
      "3/2/2019     18\n",
      "1/8/2019     18\n",
      "             ..\n",
      "1/4/2019      6\n",
      "2/28/2019     6\n",
      "2/21/2019     6\n",
      "3/17/2019     6\n",
      "2/1/2019      6\n",
      "Name: Date, Length: 89, dtype: int64\n",
      "19:48    7\n",
      "14:42    7\n",
      "17:38    6\n",
      "17:16    5\n",
      "11:40    5\n",
      "        ..\n",
      "13:26    1\n",
      "11:17    1\n",
      "14:57    1\n",
      "17:53    1\n",
      "19:12    1\n",
      "Name: Time, Length: 506, dtype: int64\n",
      "Ewallet        345\n",
      "Cash           344\n",
      "Credit card    311\n",
      "Name: Payment, dtype: int64\n",
      "206.52    2\n",
      "89.28     2\n",
      "83.08     2\n",
      "180.09    2\n",
      "448.56    2\n",
      "         ..\n",
      "144.27    1\n",
      "391.79    1\n",
      "538.30    1\n",
      "485.15    1\n",
      "618.38    1\n",
      "Name: cogs, Length: 990, dtype: int64\n",
      "4.761905    1000\n",
      "Name: gross margin percentage, dtype: int64\n",
      "10.3260    2\n",
      "4.4640     2\n",
      "4.1540     2\n",
      "9.0045     2\n",
      "22.4280    2\n",
      "          ..\n",
      "7.2135     1\n",
      "19.5895    1\n",
      "26.9150    1\n",
      "24.2575    1\n",
      "30.9190    1\n",
      "Name: gross income, Length: 990, dtype: int64\n",
      "6.0     26\n",
      "6.6     24\n",
      "4.2     22\n",
      "9.5     22\n",
      "6.5     21\n",
      "        ..\n",
      "4.0     11\n",
      "5.3     11\n",
      "8.3     11\n",
      "4.6      8\n",
      "10.0     5\n",
      "Name: Rating, Length: 61, dtype: int64\n"
     ]
    }
   ],
   "source": [
    "col_names = ['Invoice ID', 'Branch', 'City', 'Customer type', 'Gender', 'Product line', 'Unit price', 'Quantity', 'Tax 5%', 'Total', 'Date', 'Time', 'Payment', 'cogs', 'gross margin percentage', 'gross income', 'Rating']\n",
    "for col in col_names:\n",
    "    print(df[col].value_counts())  "
   ]
  },
  {
   "cell_type": "code",
   "execution_count": 17,
   "metadata": {
    "editable": false,
    "execution": {
     "iopub.execute_input": "2022-11-16T16:54:14.817899Z",
     "iopub.status.busy": "2022-11-16T16:54:14.817389Z",
     "iopub.status.idle": "2022-11-16T16:54:14.826522Z",
     "shell.execute_reply": "2022-11-16T16:54:14.825483Z",
     "shell.execute_reply.started": "2022-11-16T16:54:14.817852Z"
    }
   },
   "outputs": [
    {
     "name": "stdout",
     "output_type": "stream",
     "text": [
      "A    340\n",
      "B    332\n",
      "C    328\n",
      "Name: Branch, dtype: int64\n"
     ]
    }
   ],
   "source": [
    "print(df['Branch'].value_counts()) "
   ]
  },
  {
   "cell_type": "code",
   "execution_count": 18,
   "metadata": {
    "editable": false,
    "execution": {
     "iopub.execute_input": "2022-11-16T16:54:25.842214Z",
     "iopub.status.busy": "2022-11-16T16:54:25.840512Z",
     "iopub.status.idle": "2022-11-16T16:54:25.857043Z",
     "shell.execute_reply": "2022-11-16T16:54:25.855113Z",
     "shell.execute_reply.started": "2022-11-16T16:54:25.842160Z"
    }
   },
   "outputs": [
    {
     "data": {
      "text/plain": [
       "Invoice ID                 0\n",
       "Branch                     0\n",
       "City                       0\n",
       "Customer type              0\n",
       "Gender                     0\n",
       "Product line               0\n",
       "Unit price                 0\n",
       "Quantity                   0\n",
       "Tax 5%                     0\n",
       "Total                      0\n",
       "Date                       0\n",
       "Time                       0\n",
       "Payment                    0\n",
       "cogs                       0\n",
       "gross margin percentage    0\n",
       "gross income               0\n",
       "Rating                     0\n",
       "dtype: int64"
      ]
     },
     "execution_count": 18,
     "metadata": {},
     "output_type": "execute_result"
    }
   ],
   "source": [
    "df.isnull().sum()"
   ]
  },
  {
   "cell_type": "code",
   "execution_count": 19,
   "metadata": {
    "editable": false,
    "execution": {
     "iopub.execute_input": "2022-11-16T16:54:39.011655Z",
     "iopub.status.busy": "2022-11-16T16:54:39.011159Z",
     "iopub.status.idle": "2022-11-16T16:54:39.021462Z",
     "shell.execute_reply": "2022-11-16T16:54:39.020099Z",
     "shell.execute_reply.started": "2022-11-16T16:54:39.011614Z"
    }
   },
   "outputs": [],
   "source": [
    "X = df.drop(['Branch'], axis=1)\n",
    "\n",
    "y = df['Branch']"
   ]
  },
  {
   "cell_type": "code",
   "execution_count": 20,
   "metadata": {
    "editable": false,
    "execution": {
     "iopub.execute_input": "2022-11-16T16:54:57.170881Z",
     "iopub.status.busy": "2022-11-16T16:54:57.170419Z",
     "iopub.status.idle": "2022-11-16T16:54:57.285829Z",
     "shell.execute_reply": "2022-11-16T16:54:57.284471Z",
     "shell.execute_reply.started": "2022-11-16T16:54:57.170839Z"
    }
   },
   "outputs": [],
   "source": [
    "from sklearn.model_selection import train_test_split\n",
    "\n",
    "X_train, X_test, y_train, y_test = train_test_split(X, y, test_size = 0.33, random_state = 42)"
   ]
  },
  {
   "cell_type": "code",
   "execution_count": 21,
   "metadata": {
    "editable": false,
    "execution": {
     "iopub.execute_input": "2022-11-16T16:55:06.633447Z",
     "iopub.status.busy": "2022-11-16T16:55:06.632996Z",
     "iopub.status.idle": "2022-11-16T16:55:06.643418Z",
     "shell.execute_reply": "2022-11-16T16:55:06.642053Z",
     "shell.execute_reply.started": "2022-11-16T16:55:06.633411Z"
    }
   },
   "outputs": [
    {
     "data": {
      "text/plain": [
       "((670, 16), (330, 16))"
      ]
     },
     "execution_count": 21,
     "metadata": {},
     "output_type": "execute_result"
    }
   ],
   "source": [
    "X_train.shape, X_test.shape"
   ]
  },
  {
   "cell_type": "code",
   "execution_count": 22,
   "metadata": {
    "editable": false,
    "execution": {
     "iopub.execute_input": "2022-11-16T16:55:32.125461Z",
     "iopub.status.busy": "2022-11-16T16:55:32.125039Z",
     "iopub.status.idle": "2022-11-16T16:55:32.137678Z",
     "shell.execute_reply": "2022-11-16T16:55:32.136263Z",
     "shell.execute_reply.started": "2022-11-16T16:55:32.125427Z"
    }
   },
   "outputs": [
    {
     "data": {
      "text/plain": [
       "Invoice ID                  object\n",
       "City                        object\n",
       "Customer type               object\n",
       "Gender                      object\n",
       "Product line                object\n",
       "Unit price                 float64\n",
       "Quantity                     int64\n",
       "Tax 5%                     float64\n",
       "Total                      float64\n",
       "Date                        object\n",
       "Time                        object\n",
       "Payment                     object\n",
       "cogs                       float64\n",
       "gross margin percentage    float64\n",
       "gross income               float64\n",
       "Rating                     float64\n",
       "dtype: object"
      ]
     },
     "execution_count": 22,
     "metadata": {},
     "output_type": "execute_result"
    }
   ],
   "source": [
    "X_train.dtypes"
   ]
  },
  {
   "cell_type": "code",
   "execution_count": 23,
   "metadata": {
    "editable": false,
    "execution": {
     "iopub.execute_input": "2022-11-16T16:55:46.404059Z",
     "iopub.status.busy": "2022-11-16T16:55:46.403609Z",
     "iopub.status.idle": "2022-11-16T16:55:46.427835Z",
     "shell.execute_reply": "2022-11-16T16:55:46.426576Z",
     "shell.execute_reply.started": "2022-11-16T16:55:46.404022Z"
    }
   },
   "outputs": [
    {
     "data": {
      "text/html": [
       "<div>\n",
       "<style scoped>\n",
       "    .dataframe tbody tr th:only-of-type {\n",
       "        vertical-align: middle;\n",
       "    }\n",
       "\n",
       "    .dataframe tbody tr th {\n",
       "        vertical-align: top;\n",
       "    }\n",
       "\n",
       "    .dataframe thead th {\n",
       "        text-align: right;\n",
       "    }\n",
       "</style>\n",
       "<table border=\"1\" class=\"dataframe\">\n",
       "  <thead>\n",
       "    <tr style=\"text-align: right;\">\n",
       "      <th></th>\n",
       "      <th>Invoice ID</th>\n",
       "      <th>City</th>\n",
       "      <th>Customer type</th>\n",
       "      <th>Gender</th>\n",
       "      <th>Product line</th>\n",
       "      <th>Unit price</th>\n",
       "      <th>Quantity</th>\n",
       "      <th>Tax 5%</th>\n",
       "      <th>Total</th>\n",
       "      <th>Date</th>\n",
       "      <th>Time</th>\n",
       "      <th>Payment</th>\n",
       "      <th>cogs</th>\n",
       "      <th>gross margin percentage</th>\n",
       "      <th>gross income</th>\n",
       "      <th>Rating</th>\n",
       "    </tr>\n",
       "  </thead>\n",
       "  <tbody>\n",
       "    <tr>\n",
       "      <th>703</th>\n",
       "      <td>729-06-2010</td>\n",
       "      <td>Mandalay</td>\n",
       "      <td>Member</td>\n",
       "      <td>Male</td>\n",
       "      <td>Health and beauty</td>\n",
       "      <td>80.47</td>\n",
       "      <td>9</td>\n",
       "      <td>36.2115</td>\n",
       "      <td>760.4415</td>\n",
       "      <td>1/6/2019</td>\n",
       "      <td>11:18</td>\n",
       "      <td>Cash</td>\n",
       "      <td>724.23</td>\n",
       "      <td>4.761905</td>\n",
       "      <td>36.2115</td>\n",
       "      <td>9.2</td>\n",
       "    </tr>\n",
       "    <tr>\n",
       "      <th>311</th>\n",
       "      <td>181-94-6432</td>\n",
       "      <td>Naypyitaw</td>\n",
       "      <td>Member</td>\n",
       "      <td>Male</td>\n",
       "      <td>Fashion accessories</td>\n",
       "      <td>69.33</td>\n",
       "      <td>2</td>\n",
       "      <td>6.9330</td>\n",
       "      <td>145.5930</td>\n",
       "      <td>2/5/2019</td>\n",
       "      <td>19:05</td>\n",
       "      <td>Ewallet</td>\n",
       "      <td>138.66</td>\n",
       "      <td>4.761905</td>\n",
       "      <td>6.9330</td>\n",
       "      <td>9.7</td>\n",
       "    </tr>\n",
       "    <tr>\n",
       "      <th>722</th>\n",
       "      <td>776-68-1096</td>\n",
       "      <td>Mandalay</td>\n",
       "      <td>Normal</td>\n",
       "      <td>Male</td>\n",
       "      <td>Home and lifestyle</td>\n",
       "      <td>44.12</td>\n",
       "      <td>3</td>\n",
       "      <td>6.6180</td>\n",
       "      <td>138.9780</td>\n",
       "      <td>3/18/2019</td>\n",
       "      <td>13:45</td>\n",
       "      <td>Credit card</td>\n",
       "      <td>132.36</td>\n",
       "      <td>4.761905</td>\n",
       "      <td>6.6180</td>\n",
       "      <td>7.9</td>\n",
       "    </tr>\n",
       "    <tr>\n",
       "      <th>629</th>\n",
       "      <td>308-39-1707</td>\n",
       "      <td>Yangon</td>\n",
       "      <td>Normal</td>\n",
       "      <td>Female</td>\n",
       "      <td>Fashion accessories</td>\n",
       "      <td>12.09</td>\n",
       "      <td>1</td>\n",
       "      <td>0.6045</td>\n",
       "      <td>12.6945</td>\n",
       "      <td>1/26/2019</td>\n",
       "      <td>18:19</td>\n",
       "      <td>Credit card</td>\n",
       "      <td>12.09</td>\n",
       "      <td>4.761905</td>\n",
       "      <td>0.6045</td>\n",
       "      <td>8.2</td>\n",
       "    </tr>\n",
       "    <tr>\n",
       "      <th>0</th>\n",
       "      <td>750-67-8428</td>\n",
       "      <td>Yangon</td>\n",
       "      <td>Member</td>\n",
       "      <td>Female</td>\n",
       "      <td>Health and beauty</td>\n",
       "      <td>74.69</td>\n",
       "      <td>7</td>\n",
       "      <td>26.1415</td>\n",
       "      <td>548.9715</td>\n",
       "      <td>1/5/2019</td>\n",
       "      <td>13:08</td>\n",
       "      <td>Ewallet</td>\n",
       "      <td>522.83</td>\n",
       "      <td>4.761905</td>\n",
       "      <td>26.1415</td>\n",
       "      <td>9.1</td>\n",
       "    </tr>\n",
       "  </tbody>\n",
       "</table>\n",
       "</div>"
      ],
      "text/plain": [
       "      Invoice ID       City Customer type  Gender         Product line  \\\n",
       "703  729-06-2010   Mandalay        Member    Male    Health and beauty   \n",
       "311  181-94-6432  Naypyitaw        Member    Male  Fashion accessories   \n",
       "722  776-68-1096   Mandalay        Normal    Male   Home and lifestyle   \n",
       "629  308-39-1707     Yangon        Normal  Female  Fashion accessories   \n",
       "0    750-67-8428     Yangon        Member  Female    Health and beauty   \n",
       "\n",
       "     Unit price  Quantity   Tax 5%     Total       Date   Time      Payment  \\\n",
       "703       80.47         9  36.2115  760.4415   1/6/2019  11:18         Cash   \n",
       "311       69.33         2   6.9330  145.5930   2/5/2019  19:05      Ewallet   \n",
       "722       44.12         3   6.6180  138.9780  3/18/2019  13:45  Credit card   \n",
       "629       12.09         1   0.6045   12.6945  1/26/2019  18:19  Credit card   \n",
       "0         74.69         7  26.1415  548.9715   1/5/2019  13:08      Ewallet   \n",
       "\n",
       "       cogs  gross margin percentage  gross income  Rating  \n",
       "703  724.23                 4.761905       36.2115     9.2  \n",
       "311  138.66                 4.761905        6.9330     9.7  \n",
       "722  132.36                 4.761905        6.6180     7.9  \n",
       "629   12.09                 4.761905        0.6045     8.2  \n",
       "0    522.83                 4.761905       26.1415     9.1  "
      ]
     },
     "execution_count": 23,
     "metadata": {},
     "output_type": "execute_result"
    }
   ],
   "source": [
    "X_train.head()"
   ]
  },
  {
   "cell_type": "code",
   "execution_count": 24,
   "metadata": {
    "editable": false,
    "execution": {
     "iopub.execute_input": "2022-11-16T16:56:01.378525Z",
     "iopub.status.busy": "2022-11-16T16:56:01.378060Z",
     "iopub.status.idle": "2022-11-16T16:56:01.384550Z",
     "shell.execute_reply": "2022-11-16T16:56:01.383050Z",
     "shell.execute_reply.started": "2022-11-16T16:56:01.378490Z"
    }
   },
   "outputs": [],
   "source": [
    "import category_encoders as ce"
   ]
  },
  {
   "cell_type": "code",
   "execution_count": 27,
   "metadata": {
    "editable": false,
    "execution": {
     "iopub.execute_input": "2022-11-16T16:58:04.045635Z",
     "iopub.status.busy": "2022-11-16T16:58:04.045098Z",
     "iopub.status.idle": "2022-11-16T16:58:04.154507Z",
     "shell.execute_reply": "2022-11-16T16:58:04.153011Z",
     "shell.execute_reply.started": "2022-11-16T16:58:04.045586Z"
    }
   },
   "outputs": [],
   "source": [
    "encoder = ce.OrdinalEncoder(cols=['Invoice ID', 'City', 'Customer type', 'Gender', 'Product line', 'Unit price', 'Quantity', 'Tax 5%', 'Total', 'Date', 'Time', 'Payment', 'cogs', 'gross margin percentage', 'gross income', 'Rating'])\n",
    "\n",
    "\n",
    "X_train = encoder.fit_transform(X_train)\n",
    "\n",
    "X_test = encoder.transform(X_test)"
   ]
  },
  {
   "cell_type": "code",
   "execution_count": 28,
   "metadata": {
    "editable": false,
    "execution": {
     "iopub.execute_input": "2022-11-16T16:58:22.896079Z",
     "iopub.status.busy": "2022-11-16T16:58:22.895073Z",
     "iopub.status.idle": "2022-11-16T16:58:22.912905Z",
     "shell.execute_reply": "2022-11-16T16:58:22.911951Z",
     "shell.execute_reply.started": "2022-11-16T16:58:22.896027Z"
    }
   },
   "outputs": [
    {
     "data": {
      "text/html": [
       "<div>\n",
       "<style scoped>\n",
       "    .dataframe tbody tr th:only-of-type {\n",
       "        vertical-align: middle;\n",
       "    }\n",
       "\n",
       "    .dataframe tbody tr th {\n",
       "        vertical-align: top;\n",
       "    }\n",
       "\n",
       "    .dataframe thead th {\n",
       "        text-align: right;\n",
       "    }\n",
       "</style>\n",
       "<table border=\"1\" class=\"dataframe\">\n",
       "  <thead>\n",
       "    <tr style=\"text-align: right;\">\n",
       "      <th></th>\n",
       "      <th>Invoice ID</th>\n",
       "      <th>City</th>\n",
       "      <th>Customer type</th>\n",
       "      <th>Gender</th>\n",
       "      <th>Product line</th>\n",
       "      <th>Unit price</th>\n",
       "      <th>Quantity</th>\n",
       "      <th>Tax 5%</th>\n",
       "      <th>Total</th>\n",
       "      <th>Date</th>\n",
       "      <th>Time</th>\n",
       "      <th>Payment</th>\n",
       "      <th>cogs</th>\n",
       "      <th>gross margin percentage</th>\n",
       "      <th>gross income</th>\n",
       "      <th>Rating</th>\n",
       "    </tr>\n",
       "  </thead>\n",
       "  <tbody>\n",
       "    <tr>\n",
       "      <th>703</th>\n",
       "      <td>1</td>\n",
       "      <td>1</td>\n",
       "      <td>1</td>\n",
       "      <td>1</td>\n",
       "      <td>1</td>\n",
       "      <td>1</td>\n",
       "      <td>1</td>\n",
       "      <td>1</td>\n",
       "      <td>1</td>\n",
       "      <td>1</td>\n",
       "      <td>1</td>\n",
       "      <td>1</td>\n",
       "      <td>1</td>\n",
       "      <td>1</td>\n",
       "      <td>1</td>\n",
       "      <td>1</td>\n",
       "    </tr>\n",
       "    <tr>\n",
       "      <th>311</th>\n",
       "      <td>2</td>\n",
       "      <td>2</td>\n",
       "      <td>1</td>\n",
       "      <td>1</td>\n",
       "      <td>2</td>\n",
       "      <td>2</td>\n",
       "      <td>2</td>\n",
       "      <td>2</td>\n",
       "      <td>2</td>\n",
       "      <td>2</td>\n",
       "      <td>2</td>\n",
       "      <td>2</td>\n",
       "      <td>2</td>\n",
       "      <td>1</td>\n",
       "      <td>2</td>\n",
       "      <td>2</td>\n",
       "    </tr>\n",
       "    <tr>\n",
       "      <th>722</th>\n",
       "      <td>3</td>\n",
       "      <td>1</td>\n",
       "      <td>2</td>\n",
       "      <td>1</td>\n",
       "      <td>3</td>\n",
       "      <td>3</td>\n",
       "      <td>3</td>\n",
       "      <td>3</td>\n",
       "      <td>3</td>\n",
       "      <td>3</td>\n",
       "      <td>3</td>\n",
       "      <td>3</td>\n",
       "      <td>3</td>\n",
       "      <td>1</td>\n",
       "      <td>3</td>\n",
       "      <td>3</td>\n",
       "    </tr>\n",
       "    <tr>\n",
       "      <th>629</th>\n",
       "      <td>4</td>\n",
       "      <td>3</td>\n",
       "      <td>2</td>\n",
       "      <td>2</td>\n",
       "      <td>2</td>\n",
       "      <td>4</td>\n",
       "      <td>4</td>\n",
       "      <td>4</td>\n",
       "      <td>4</td>\n",
       "      <td>4</td>\n",
       "      <td>4</td>\n",
       "      <td>3</td>\n",
       "      <td>4</td>\n",
       "      <td>1</td>\n",
       "      <td>4</td>\n",
       "      <td>4</td>\n",
       "    </tr>\n",
       "    <tr>\n",
       "      <th>0</th>\n",
       "      <td>5</td>\n",
       "      <td>3</td>\n",
       "      <td>1</td>\n",
       "      <td>2</td>\n",
       "      <td>1</td>\n",
       "      <td>5</td>\n",
       "      <td>5</td>\n",
       "      <td>5</td>\n",
       "      <td>5</td>\n",
       "      <td>5</td>\n",
       "      <td>5</td>\n",
       "      <td>2</td>\n",
       "      <td>5</td>\n",
       "      <td>1</td>\n",
       "      <td>5</td>\n",
       "      <td>5</td>\n",
       "    </tr>\n",
       "  </tbody>\n",
       "</table>\n",
       "</div>"
      ],
      "text/plain": [
       "     Invoice ID  City  Customer type  Gender  Product line  Unit price  \\\n",
       "703           1     1              1       1             1           1   \n",
       "311           2     2              1       1             2           2   \n",
       "722           3     1              2       1             3           3   \n",
       "629           4     3              2       2             2           4   \n",
       "0             5     3              1       2             1           5   \n",
       "\n",
       "     Quantity  Tax 5%  Total  Date  Time  Payment  cogs  \\\n",
       "703         1       1      1     1     1        1     1   \n",
       "311         2       2      2     2     2        2     2   \n",
       "722         3       3      3     3     3        3     3   \n",
       "629         4       4      4     4     4        3     4   \n",
       "0           5       5      5     5     5        2     5   \n",
       "\n",
       "     gross margin percentage  gross income  Rating  \n",
       "703                        1             1       1  \n",
       "311                        1             2       2  \n",
       "722                        1             3       3  \n",
       "629                        1             4       4  \n",
       "0                          1             5       5  "
      ]
     },
     "execution_count": 28,
     "metadata": {},
     "output_type": "execute_result"
    }
   ],
   "source": [
    "X_train.head()"
   ]
  },
  {
   "cell_type": "code",
   "execution_count": 29,
   "metadata": {
    "editable": false,
    "execution": {
     "iopub.execute_input": "2022-11-16T16:58:36.074648Z",
     "iopub.status.busy": "2022-11-16T16:58:36.074206Z",
     "iopub.status.idle": "2022-11-16T16:58:36.097881Z",
     "shell.execute_reply": "2022-11-16T16:58:36.096450Z",
     "shell.execute_reply.started": "2022-11-16T16:58:36.074615Z"
    }
   },
   "outputs": [
    {
     "data": {
      "text/html": [
       "<div>\n",
       "<style scoped>\n",
       "    .dataframe tbody tr th:only-of-type {\n",
       "        vertical-align: middle;\n",
       "    }\n",
       "\n",
       "    .dataframe tbody tr th {\n",
       "        vertical-align: top;\n",
       "    }\n",
       "\n",
       "    .dataframe thead th {\n",
       "        text-align: right;\n",
       "    }\n",
       "</style>\n",
       "<table border=\"1\" class=\"dataframe\">\n",
       "  <thead>\n",
       "    <tr style=\"text-align: right;\">\n",
       "      <th></th>\n",
       "      <th>Invoice ID</th>\n",
       "      <th>City</th>\n",
       "      <th>Customer type</th>\n",
       "      <th>Gender</th>\n",
       "      <th>Product line</th>\n",
       "      <th>Unit price</th>\n",
       "      <th>Quantity</th>\n",
       "      <th>Tax 5%</th>\n",
       "      <th>Total</th>\n",
       "      <th>Date</th>\n",
       "      <th>Time</th>\n",
       "      <th>Payment</th>\n",
       "      <th>cogs</th>\n",
       "      <th>gross margin percentage</th>\n",
       "      <th>gross income</th>\n",
       "      <th>Rating</th>\n",
       "    </tr>\n",
       "  </thead>\n",
       "  <tbody>\n",
       "    <tr>\n",
       "      <th>521</th>\n",
       "      <td>-1.0</td>\n",
       "      <td>2</td>\n",
       "      <td>1</td>\n",
       "      <td>2</td>\n",
       "      <td>3</td>\n",
       "      <td>-1.0</td>\n",
       "      <td>9</td>\n",
       "      <td>-1.0</td>\n",
       "      <td>-1.0</td>\n",
       "      <td>62</td>\n",
       "      <td>132.0</td>\n",
       "      <td>1</td>\n",
       "      <td>-1.0</td>\n",
       "      <td>1</td>\n",
       "      <td>-1.0</td>\n",
       "      <td>6</td>\n",
       "    </tr>\n",
       "    <tr>\n",
       "      <th>737</th>\n",
       "      <td>-1.0</td>\n",
       "      <td>2</td>\n",
       "      <td>2</td>\n",
       "      <td>1</td>\n",
       "      <td>5</td>\n",
       "      <td>-1.0</td>\n",
       "      <td>7</td>\n",
       "      <td>-1.0</td>\n",
       "      <td>-1.0</td>\n",
       "      <td>52</td>\n",
       "      <td>-1.0</td>\n",
       "      <td>2</td>\n",
       "      <td>-1.0</td>\n",
       "      <td>1</td>\n",
       "      <td>-1.0</td>\n",
       "      <td>51</td>\n",
       "    </tr>\n",
       "    <tr>\n",
       "      <th>740</th>\n",
       "      <td>-1.0</td>\n",
       "      <td>2</td>\n",
       "      <td>2</td>\n",
       "      <td>1</td>\n",
       "      <td>3</td>\n",
       "      <td>-1.0</td>\n",
       "      <td>5</td>\n",
       "      <td>-1.0</td>\n",
       "      <td>-1.0</td>\n",
       "      <td>63</td>\n",
       "      <td>-1.0</td>\n",
       "      <td>1</td>\n",
       "      <td>-1.0</td>\n",
       "      <td>1</td>\n",
       "      <td>-1.0</td>\n",
       "      <td>29</td>\n",
       "    </tr>\n",
       "    <tr>\n",
       "      <th>660</th>\n",
       "      <td>-1.0</td>\n",
       "      <td>1</td>\n",
       "      <td>2</td>\n",
       "      <td>2</td>\n",
       "      <td>6</td>\n",
       "      <td>-1.0</td>\n",
       "      <td>3</td>\n",
       "      <td>-1.0</td>\n",
       "      <td>-1.0</td>\n",
       "      <td>43</td>\n",
       "      <td>-1.0</td>\n",
       "      <td>1</td>\n",
       "      <td>-1.0</td>\n",
       "      <td>1</td>\n",
       "      <td>-1.0</td>\n",
       "      <td>53</td>\n",
       "    </tr>\n",
       "    <tr>\n",
       "      <th>411</th>\n",
       "      <td>-1.0</td>\n",
       "      <td>1</td>\n",
       "      <td>2</td>\n",
       "      <td>1</td>\n",
       "      <td>6</td>\n",
       "      <td>-1.0</td>\n",
       "      <td>2</td>\n",
       "      <td>-1.0</td>\n",
       "      <td>-1.0</td>\n",
       "      <td>29</td>\n",
       "      <td>237.0</td>\n",
       "      <td>2</td>\n",
       "      <td>-1.0</td>\n",
       "      <td>1</td>\n",
       "      <td>-1.0</td>\n",
       "      <td>39</td>\n",
       "    </tr>\n",
       "  </tbody>\n",
       "</table>\n",
       "</div>"
      ],
      "text/plain": [
       "     Invoice ID  City  Customer type  Gender  Product line  Unit price  \\\n",
       "521        -1.0     2              1       2             3        -1.0   \n",
       "737        -1.0     2              2       1             5        -1.0   \n",
       "740        -1.0     2              2       1             3        -1.0   \n",
       "660        -1.0     1              2       2             6        -1.0   \n",
       "411        -1.0     1              2       1             6        -1.0   \n",
       "\n",
       "     Quantity  Tax 5%  Total  Date   Time  Payment  cogs  \\\n",
       "521         9    -1.0   -1.0    62  132.0        1  -1.0   \n",
       "737         7    -1.0   -1.0    52   -1.0        2  -1.0   \n",
       "740         5    -1.0   -1.0    63   -1.0        1  -1.0   \n",
       "660         3    -1.0   -1.0    43   -1.0        1  -1.0   \n",
       "411         2    -1.0   -1.0    29  237.0        2  -1.0   \n",
       "\n",
       "     gross margin percentage  gross income  Rating  \n",
       "521                        1          -1.0       6  \n",
       "737                        1          -1.0      51  \n",
       "740                        1          -1.0      29  \n",
       "660                        1          -1.0      53  \n",
       "411                        1          -1.0      39  "
      ]
     },
     "execution_count": 29,
     "metadata": {},
     "output_type": "execute_result"
    }
   ],
   "source": [
    "X_test.head()"
   ]
  },
  {
   "cell_type": "code",
   "execution_count": 30,
   "metadata": {
    "editable": false,
    "execution": {
     "iopub.execute_input": "2022-11-16T16:58:44.955296Z",
     "iopub.status.busy": "2022-11-16T16:58:44.954819Z",
     "iopub.status.idle": "2022-11-16T16:58:45.123461Z",
     "shell.execute_reply": "2022-11-16T16:58:45.122395Z",
     "shell.execute_reply.started": "2022-11-16T16:58:44.955259Z"
    }
   },
   "outputs": [],
   "source": [
    "from sklearn.tree import DecisionTreeClassifier"
   ]
  },
  {
   "cell_type": "code",
   "execution_count": 32,
   "metadata": {
    "editable": false,
    "execution": {
     "iopub.execute_input": "2022-11-16T16:59:03.974562Z",
     "iopub.status.busy": "2022-11-16T16:59:03.974054Z",
     "iopub.status.idle": "2022-11-16T16:59:03.993748Z",
     "shell.execute_reply": "2022-11-16T16:59:03.992020Z",
     "shell.execute_reply.started": "2022-11-16T16:59:03.974520Z"
    }
   },
   "outputs": [
    {
     "data": {
      "text/plain": [
       "DecisionTreeClassifier(max_depth=3, random_state=0)"
      ]
     },
     "execution_count": 32,
     "metadata": {},
     "output_type": "execute_result"
    }
   ],
   "source": [
    "clf_gini = DecisionTreeClassifier(criterion='gini', max_depth=3, random_state=0)\n",
    "\n",
    "\n",
    "# fit the model\n",
    "clf_gini.fit(X_train, y_train)"
   ]
  },
  {
   "cell_type": "code",
   "execution_count": 34,
   "metadata": {
    "editable": false,
    "execution": {
     "iopub.execute_input": "2022-11-16T16:59:17.782745Z",
     "iopub.status.busy": "2022-11-16T16:59:17.782316Z",
     "iopub.status.idle": "2022-11-16T16:59:17.792233Z",
     "shell.execute_reply": "2022-11-16T16:59:17.790042Z",
     "shell.execute_reply.started": "2022-11-16T16:59:17.782711Z"
    }
   },
   "outputs": [],
   "source": [
    "y_pred_gini = clf_gini.predict(X_test)"
   ]
  },
  {
   "cell_type": "code",
   "execution_count": 35,
   "metadata": {
    "editable": false,
    "execution": {
     "iopub.execute_input": "2022-11-16T16:59:27.985215Z",
     "iopub.status.busy": "2022-11-16T16:59:27.984713Z",
     "iopub.status.idle": "2022-11-16T16:59:27.994804Z",
     "shell.execute_reply": "2022-11-16T16:59:27.992985Z",
     "shell.execute_reply.started": "2022-11-16T16:59:27.985177Z"
    }
   },
   "outputs": [
    {
     "name": "stdout",
     "output_type": "stream",
     "text": [
      "Model accuracy score with criterion gini index: 1.0000\n"
     ]
    }
   ],
   "source": [
    "from sklearn.metrics import accuracy_score\n",
    "\n",
    "print('Model accuracy score with criterion gini index: {0:0.4f}'. format(accuracy_score(y_test, y_pred_gini)))"
   ]
  },
  {
   "cell_type": "code",
   "execution_count": 36,
   "metadata": {
    "editable": false,
    "execution": {
     "iopub.execute_input": "2022-11-16T16:59:37.878322Z",
     "iopub.status.busy": "2022-11-16T16:59:37.877822Z",
     "iopub.status.idle": "2022-11-16T16:59:37.893314Z",
     "shell.execute_reply": "2022-11-16T16:59:37.891877Z",
     "shell.execute_reply.started": "2022-11-16T16:59:37.878285Z"
    }
   },
   "outputs": [
    {
     "data": {
      "text/plain": [
       "array(['B', 'C', 'B', 'A', 'A', 'C', 'B', 'A', 'B', 'B', 'C', 'C', 'C',\n",
       "       'A', 'A', 'C', 'B', 'A', 'C', 'C', 'C', 'B', 'B', 'A', 'C', 'A',\n",
       "       'C', 'C', 'A', 'A', 'B', 'C', 'C', 'B', 'B', 'B', 'C', 'B', 'C',\n",
       "       'C', 'A', 'B', 'C', 'B', 'A', 'C', 'B', 'C', 'B', 'A', 'B', 'C',\n",
       "       'B', 'A', 'B', 'C', 'B', 'B', 'A', 'C', 'B', 'C', 'A', 'C', 'C',\n",
       "       'A', 'A', 'A', 'A', 'A', 'A', 'B', 'C', 'A', 'A', 'C', 'B', 'C',\n",
       "       'A', 'B', 'B', 'C', 'A', 'B', 'A', 'A', 'C', 'B', 'A', 'C', 'A',\n",
       "       'A', 'B', 'B', 'B', 'A', 'C', 'C', 'B', 'A', 'B', 'A', 'C', 'B',\n",
       "       'C', 'A', 'A', 'C', 'C', 'A', 'C', 'A', 'B', 'B', 'B', 'C', 'B',\n",
       "       'A', 'A', 'C', 'A', 'A', 'A', 'C', 'A', 'B', 'A', 'B', 'A', 'A',\n",
       "       'A', 'A', 'C', 'A', 'C', 'B', 'C', 'C', 'A', 'B', 'C', 'A', 'B',\n",
       "       'B', 'A', 'C', 'B', 'C', 'B', 'A', 'C', 'C', 'B', 'A', 'C', 'C',\n",
       "       'B', 'A', 'A', 'C', 'C', 'C', 'B', 'C', 'A', 'A', 'A', 'C', 'A',\n",
       "       'B', 'B', 'C', 'A', 'C', 'A', 'C', 'B', 'C', 'C', 'A', 'A', 'A',\n",
       "       'A', 'B', 'A', 'A', 'C', 'C', 'C', 'B', 'C', 'B', 'A', 'B', 'C',\n",
       "       'B', 'A', 'B', 'A', 'B', 'A', 'A', 'B', 'A', 'A', 'B', 'C', 'C',\n",
       "       'A', 'C', 'A', 'C', 'C', 'A', 'B', 'A', 'A', 'A', 'C', 'A', 'B',\n",
       "       'B', 'C', 'A', 'B', 'A', 'A', 'A', 'B', 'B', 'C', 'A', 'B', 'C',\n",
       "       'A', 'C', 'B', 'B', 'B', 'A', 'A', 'B', 'C', 'C', 'B', 'A', 'C',\n",
       "       'C', 'B', 'B', 'C', 'B', 'C', 'A', 'B', 'B', 'A', 'A', 'C', 'A',\n",
       "       'A', 'C', 'B', 'C', 'B', 'C', 'C', 'C', 'C', 'A', 'A', 'C', 'A',\n",
       "       'B', 'A', 'B', 'B', 'C', 'B', 'A', 'C', 'B', 'A', 'C', 'C', 'B',\n",
       "       'B', 'C', 'C', 'B', 'B', 'B', 'A', 'B', 'A', 'A', 'B', 'B', 'A',\n",
       "       'C', 'B', 'C', 'A', 'A', 'B', 'C', 'B', 'B', 'A', 'B', 'C', 'A',\n",
       "       'A', 'B', 'A', 'C', 'A', 'A', 'B', 'B', 'A', 'A', 'A', 'B', 'B',\n",
       "       'A', 'B', 'A', 'A', 'A', 'A', 'C', 'B', 'A', 'C', 'B', 'C', 'A',\n",
       "       'C', 'A', 'B', 'A', 'C', 'B', 'B', 'C', 'C', 'B', 'A', 'C', 'A',\n",
       "       'C', 'A', 'A', 'A', 'A', 'A', 'B', 'A', 'A', 'B', 'B', 'B', 'A',\n",
       "       'B', 'B', 'A', 'A', 'A', 'B', 'C', 'B', 'A', 'B', 'A', 'C', 'C',\n",
       "       'A', 'B', 'C', 'A', 'A', 'A', 'C', 'B', 'B', 'C', 'B', 'A', 'C',\n",
       "       'C', 'A', 'B', 'A', 'A', 'C', 'B', 'C', 'C', 'C', 'B', 'B', 'A',\n",
       "       'B', 'C', 'A', 'A', 'B', 'C', 'C', 'C', 'B', 'C', 'A', 'B', 'C',\n",
       "       'C', 'A', 'A', 'B', 'B', 'A', 'B', 'C', 'B', 'C', 'B', 'B', 'B',\n",
       "       'C', 'B', 'C', 'B', 'A', 'C', 'B', 'C', 'A', 'A', 'B', 'A', 'B',\n",
       "       'C', 'C', 'B', 'C', 'A', 'B', 'A', 'C', 'B', 'A', 'A', 'B', 'A',\n",
       "       'A', 'C', 'A', 'A', 'C', 'A', 'B', 'B', 'B', 'C', 'C', 'B', 'A',\n",
       "       'A', 'A', 'B', 'B', 'C', 'B', 'C', 'C', 'A', 'B', 'A', 'C', 'A',\n",
       "       'A', 'B', 'C', 'A', 'C', 'A', 'B', 'A', 'A', 'A', 'A', 'A', 'C',\n",
       "       'C', 'C', 'C', 'C', 'A', 'A', 'B', 'C', 'C', 'A', 'A', 'B', 'B',\n",
       "       'B', 'B', 'B', 'A', 'C', 'A', 'A', 'B', 'B', 'B', 'A', 'C', 'B',\n",
       "       'B', 'B', 'C', 'C', 'C', 'A', 'B', 'B', 'B', 'C', 'C', 'B', 'B',\n",
       "       'A', 'B', 'A', 'B', 'B', 'B', 'A', 'B', 'C', 'A', 'B', 'C', 'A',\n",
       "       'B', 'C', 'A', 'B', 'B', 'B', 'B', 'B', 'A', 'B', 'C', 'B', 'A',\n",
       "       'B', 'B', 'B', 'B', 'C', 'B', 'C', 'C', 'B', 'B', 'B', 'B', 'B',\n",
       "       'A', 'B', 'A', 'B', 'B', 'C', 'B', 'A', 'A', 'C', 'A', 'A', 'B',\n",
       "       'C', 'A', 'A', 'C', 'C', 'A', 'C', 'B', 'B', 'B', 'A', 'C', 'C',\n",
       "       'B', 'C', 'B', 'A', 'C', 'A', 'A', 'C', 'C', 'A', 'A', 'C', 'A',\n",
       "       'A', 'C', 'B', 'C', 'C', 'B', 'B', 'A', 'C', 'C', 'B', 'B', 'C',\n",
       "       'A', 'C', 'A', 'B', 'B', 'A', 'A', 'B', 'B', 'C', 'C', 'B', 'A',\n",
       "       'C', 'C', 'C', 'A', 'B', 'B', 'A', 'A', 'A', 'C', 'A', 'A', 'C',\n",
       "       'B', 'C', 'C', 'B', 'C', 'A', 'C', 'B', 'B', 'C', 'C', 'A', 'C',\n",
       "       'C', 'C', 'C', 'B', 'C', 'C', 'C'], dtype=object)"
      ]
     },
     "execution_count": 36,
     "metadata": {},
     "output_type": "execute_result"
    }
   ],
   "source": [
    "y_pred_train_gini = clf_gini.predict(X_train)\n",
    "\n",
    "y_pred_train_gini"
   ]
  },
  {
   "cell_type": "code",
   "execution_count": 38,
   "metadata": {
    "editable": false,
    "execution": {
     "iopub.execute_input": "2022-11-16T17:00:22.522050Z",
     "iopub.status.busy": "2022-11-16T17:00:22.521531Z",
     "iopub.status.idle": "2022-11-16T17:00:22.530744Z",
     "shell.execute_reply": "2022-11-16T17:00:22.529188Z",
     "shell.execute_reply.started": "2022-11-16T17:00:22.522008Z"
    }
   },
   "outputs": [
    {
     "name": "stdout",
     "output_type": "stream",
     "text": [
      "Training-set accuracy score: 1.0000\n"
     ]
    }
   ],
   "source": [
    "print('Training-set accuracy score: {0:0.4f}'. format(accuracy_score(y_train, y_pred_train_gini)))"
   ]
  },
  {
   "cell_type": "code",
   "execution_count": 37,
   "metadata": {
    "editable": false,
    "execution": {
     "iopub.execute_input": "2022-11-16T16:59:56.219141Z",
     "iopub.status.busy": "2022-11-16T16:59:56.218649Z",
     "iopub.status.idle": "2022-11-16T16:59:56.233270Z",
     "shell.execute_reply": "2022-11-16T16:59:56.231874Z",
     "shell.execute_reply.started": "2022-11-16T16:59:56.219100Z"
    }
   },
   "outputs": [
    {
     "name": "stdout",
     "output_type": "stream",
     "text": [
      "Training set score: 1.0000\n",
      "Test set score: 1.0000\n"
     ]
    }
   ],
   "source": [
    "print('Training set score: {:.4f}'.format(clf_gini.score(X_train, y_train)))\n",
    "\n",
    "print('Test set score: {:.4f}'.format(clf_gini.score(X_test, y_test)))"
   ]
  },
  {
   "cell_type": "code",
   "execution_count": 39,
   "metadata": {
    "editable": false,
    "execution": {
     "iopub.execute_input": "2022-11-16T17:00:52.609556Z",
     "iopub.status.busy": "2022-11-16T17:00:52.609053Z",
     "iopub.status.idle": "2022-11-16T17:00:53.047563Z",
     "shell.execute_reply": "2022-11-16T17:00:53.046052Z",
     "shell.execute_reply.started": "2022-11-16T17:00:52.609516Z"
    }
   },
   "outputs": [
    {
     "data": {
      "text/plain": [
       "[Text(0.6, 0.8333333333333334, 'X[1] <= 2.5\\ngini = 0.666\\nsamples = 670\\nvalue = [232, 226, 212]'),\n",
       " Text(0.4, 0.5, 'X[1] <= 1.5\\ngini = 0.499\\nsamples = 438\\nvalue = [0, 226, 212]'),\n",
       " Text(0.2, 0.16666666666666666, 'gini = 0.0\\nsamples = 226\\nvalue = [0, 226, 0]'),\n",
       " Text(0.6, 0.16666666666666666, 'gini = 0.0\\nsamples = 212\\nvalue = [0, 0, 212]'),\n",
       " Text(0.8, 0.5, 'gini = 0.0\\nsamples = 232\\nvalue = [232, 0, 0]')]"
      ]
     },
     "execution_count": 39,
     "metadata": {},
     "output_type": "execute_result"
    },
    {
     "data": {
      "image/png": "[encoded data removed]",
      "text/plain": [
       "<Figure size 864x576 with 1 Axes>"
      ]
     },
     "metadata": {
      "needs_background": "light"
     },
     "output_type": "display_data"
    }
   ],
   "source": [
    "plt.figure(figsize=(12,8))\n",
    "\n",
    "from sklearn import tree\n",
    "\n",
    "tree.plot_tree(clf_gini.fit(X_train, y_train)) "
   ]
  },
  {
   "cell_type": "code",
   "execution_count": 41,
   "metadata": {
    "editable": false,
    "execution": {
     "iopub.execute_input": "2022-11-16T17:02:10.574097Z",
     "iopub.status.busy": "2022-11-16T17:02:10.573526Z",
     "iopub.status.idle": "2022-11-16T17:02:10.682456Z",
     "shell.execute_reply": "2022-11-16T17:02:10.680011Z",
     "shell.execute_reply.started": "2022-11-16T17:02:10.574053Z"
    }
   },
   "outputs": [
    {
     "ename": "KeyError",
     "evalue": "2",
     "output_type": "error",
     "traceback": [
      "\u001b[0;31m---------------------------------------------------------------------------\u001b[0m",
      "\u001b[0;31mKeyError\u001b[0m                                  Traceback (most recent call last)",
      "\u001b[0;32m/opt/conda/lib/python3.7/site-packages/pandas/core/indexes/base.py\u001b[0m in \u001b[0;36mget_loc\u001b[0;34m(self, key, method, tolerance)\u001b[0m\n\u001b[1;32m   3360\u001b[0m             \u001b[0;32mtry\u001b[0m\u001b[0;34m:\u001b[0m\u001b[0;34m\u001b[0m\u001b[0;34m\u001b[0m\u001b[0m\n\u001b[0;32m-> 3361\u001b[0;31m                 \u001b[0;32mreturn\u001b[0m \u001b[0mself\u001b[0m\u001b[0;34m.\u001b[0m\u001b[0m_engine\u001b[0m\u001b[0;34m.\u001b[0m\u001b[0mget_loc\u001b[0m\u001b[0;34m(\u001b[0m\u001b[0mcasted_key\u001b[0m\u001b[0;34m)\u001b[0m\u001b[0;34m\u001b[0m\u001b[0;34m\u001b[0m\u001b[0m\n\u001b[0m\u001b[1;32m   3362\u001b[0m             \u001b[0;32mexcept\u001b[0m \u001b[0mKeyError\u001b[0m \u001b[0;32mas\u001b[0m \u001b[0merr\u001b[0m\u001b[0;34m:\u001b[0m\u001b[0;34m\u001b[0m\u001b[0;34m\u001b[0m\u001b[0m\n",
      "\u001b[0;32m/opt/conda/lib/python3.7/site-packages/pandas/_libs/index.pyx\u001b[0m in \u001b[0;36mpandas._libs.index.IndexEngine.get_loc\u001b[0;34m()\u001b[0m\n",
      "\u001b[0;32m/opt/conda/lib/python3.7/site-packages/pandas/_libs/index.pyx\u001b[0m in \u001b[0;36mpandas._libs.index.IndexEngine.get_loc\u001b[0;34m()\u001b[0m\n",
      "\u001b[0;32mpandas/_libs/hashtable_class_helper.pxi\u001b[0m in \u001b[0;36mpandas._libs.hashtable.Int64HashTable.get_item\u001b[0;34m()\u001b[0m\n",
      "\u001b[0;32mpandas/_libs/hashtable_class_helper.pxi\u001b[0m in \u001b[0;36mpandas._libs.hashtable.Int64HashTable.get_item\u001b[0;34m()\u001b[0m\n",
      "\u001b[0;31mKeyError\u001b[0m: 2",
      "\nThe above exception was the direct cause of the following exception:\n",
      "\u001b[0;31mKeyError\u001b[0m                                  Traceback (most recent call last)",
      "\u001b[0;32m/tmp/ipykernel_27/2876111219.py\u001b[0m in \u001b[0;36m<module>\u001b[0;34m\u001b[0m\n\u001b[1;32m      4\u001b[0m                               \u001b[0mclass_names\u001b[0m\u001b[0;34m=\u001b[0m\u001b[0my_train\u001b[0m\u001b[0;34m,\u001b[0m\u001b[0;34m\u001b[0m\u001b[0;34m\u001b[0m\u001b[0m\n\u001b[1;32m      5\u001b[0m                               \u001b[0mfilled\u001b[0m\u001b[0;34m=\u001b[0m\u001b[0;32mTrue\u001b[0m\u001b[0;34m,\u001b[0m \u001b[0mrounded\u001b[0m\u001b[0;34m=\u001b[0m\u001b[0;32mTrue\u001b[0m\u001b[0;34m,\u001b[0m\u001b[0;34m\u001b[0m\u001b[0;34m\u001b[0m\u001b[0m\n\u001b[0;32m----> 6\u001b[0;31m                               special_characters=True)\n\u001b[0m\u001b[1;32m      7\u001b[0m \u001b[0;34m\u001b[0m\u001b[0m\n\u001b[1;32m      8\u001b[0m \u001b[0mgraph\u001b[0m \u001b[0;34m=\u001b[0m \u001b[0mgraphviz\u001b[0m\u001b[0;34m.\u001b[0m\u001b[0mSource\u001b[0m\u001b[0;34m(\u001b[0m\u001b[0mdot_data\u001b[0m\u001b[0;34m)\u001b[0m\u001b[0;34m\u001b[0m\u001b[0;34m\u001b[0m\u001b[0m\n",
      "\u001b[0;32m/opt/conda/lib/python3.7/site-packages/sklearn/tree/_export.py\u001b[0m in \u001b[0;36mexport_graphviz\u001b[0;34m(decision_tree, out_file, max_depth, feature_names, class_names, label, filled, leaves_parallel, impurity, node_ids, proportion, rotate, rounded, special_characters, precision, fontname)\u001b[0m\n\u001b[1;32m    887\u001b[0m             \u001b[0mfontname\u001b[0m\u001b[0;34m=\u001b[0m\u001b[0mfontname\u001b[0m\u001b[0;34m,\u001b[0m\u001b[0;34m\u001b[0m\u001b[0;34m\u001b[0m\u001b[0m\n\u001b[1;32m    888\u001b[0m         )\n\u001b[0;32m--> 889\u001b[0;31m         \u001b[0mexporter\u001b[0m\u001b[0;34m.\u001b[0m\u001b[0mexport\u001b[0m\u001b[0;34m(\u001b[0m\u001b[0mdecision_tree\u001b[0m\u001b[0;34m)\u001b[0m\u001b[0;34m\u001b[0m\u001b[0;34m\u001b[0m\u001b[0m\n\u001b[0m\u001b[1;32m    890\u001b[0m \u001b[0;34m\u001b[0m\u001b[0m\n\u001b[1;32m    891\u001b[0m         \u001b[0;32mif\u001b[0m \u001b[0mreturn_string\u001b[0m\u001b[0;34m:\u001b[0m\u001b[0;34m\u001b[0m\u001b[0;34m\u001b[0m\u001b[0m\n",
      "\u001b[0;32m/opt/conda/lib/python3.7/site-packages/sklearn/tree/_export.py\u001b[0m in \u001b[0;36mexport\u001b[0;34m(self, decision_tree)\u001b[0m\n\u001b[1;32m    460\u001b[0m             \u001b[0mself\u001b[0m\u001b[0;34m.\u001b[0m\u001b[0mrecurse\u001b[0m\u001b[0;34m(\u001b[0m\u001b[0mdecision_tree\u001b[0m\u001b[0;34m,\u001b[0m \u001b[0;36m0\u001b[0m\u001b[0;34m,\u001b[0m \u001b[0mcriterion\u001b[0m\u001b[0;34m=\u001b[0m\u001b[0;34m\"impurity\"\u001b[0m\u001b[0;34m)\u001b[0m\u001b[0;34m\u001b[0m\u001b[0;34m\u001b[0m\u001b[0m\n\u001b[1;32m    461\u001b[0m         \u001b[0;32melse\u001b[0m\u001b[0;34m:\u001b[0m\u001b[0;34m\u001b[0m\u001b[0;34m\u001b[0m\u001b[0m\n\u001b[0;32m--> 462\u001b[0;31m             \u001b[0mself\u001b[0m\u001b[0;34m.\u001b[0m\u001b[0mrecurse\u001b[0m\u001b[0;34m(\u001b[0m\u001b[0mdecision_tree\u001b[0m\u001b[0;34m.\u001b[0m\u001b[0mtree_\u001b[0m\u001b[0;34m,\u001b[0m \u001b[0;36m0\u001b[0m\u001b[0;34m,\u001b[0m \u001b[0mcriterion\u001b[0m\u001b[0;34m=\u001b[0m\u001b[0mdecision_tree\u001b[0m\u001b[0;34m.\u001b[0m\u001b[0mcriterion\u001b[0m\u001b[0;34m)\u001b[0m\u001b[0;34m\u001b[0m\u001b[0;34m\u001b[0m\u001b[0m\n\u001b[0m\u001b[1;32m    463\u001b[0m \u001b[0;34m\u001b[0m\u001b[0m\n\u001b[1;32m    464\u001b[0m         \u001b[0mself\u001b[0m\u001b[0;34m.\u001b[0m\u001b[0mtail\u001b[0m\u001b[0;34m(\u001b[0m\u001b[0;34m)\u001b[0m\u001b[0;34m\u001b[0m\u001b[0;34m\u001b[0m\u001b[0m\n",
      "\u001b[0;32m/opt/conda/lib/python3.7/site-packages/sklearn/tree/_export.py\u001b[0m in \u001b[0;36mrecurse\u001b[0;34m(self, tree, node_id, criterion, parent, depth)\u001b[0m\n\u001b[1;32m    547\u001b[0m                     \u001b[0mcriterion\u001b[0m\u001b[0;34m=\u001b[0m\u001b[0mcriterion\u001b[0m\u001b[0;34m,\u001b[0m\u001b[0;34m\u001b[0m\u001b[0;34m\u001b[0m\u001b[0m\n\u001b[1;32m    548\u001b[0m                     \u001b[0mparent\u001b[0m\u001b[0;34m=\u001b[0m\u001b[0mnode_id\u001b[0m\u001b[0;34m,\u001b[0m\u001b[0;34m\u001b[0m\u001b[0;34m\u001b[0m\u001b[0m\n\u001b[0;32m--> 549\u001b[0;31m                     \u001b[0mdepth\u001b[0m\u001b[0;34m=\u001b[0m\u001b[0mdepth\u001b[0m \u001b[0;34m+\u001b[0m \u001b[0;36m1\u001b[0m\u001b[0;34m,\u001b[0m\u001b[0;34m\u001b[0m\u001b[0;34m\u001b[0m\u001b[0m\n\u001b[0m\u001b[1;32m    550\u001b[0m                 )\n\u001b[1;32m    551\u001b[0m                 self.recurse(\n",
      "\u001b[0;32m/opt/conda/lib/python3.7/site-packages/sklearn/tree/_export.py\u001b[0m in \u001b[0;36mrecurse\u001b[0;34m(self, tree, node_id, criterion, parent, depth)\u001b[0m\n\u001b[1;32m    554\u001b[0m                     \u001b[0mcriterion\u001b[0m\u001b[0;34m=\u001b[0m\u001b[0mcriterion\u001b[0m\u001b[0;34m,\u001b[0m\u001b[0;34m\u001b[0m\u001b[0;34m\u001b[0m\u001b[0m\n\u001b[1;32m    555\u001b[0m                     \u001b[0mparent\u001b[0m\u001b[0;34m=\u001b[0m\u001b[0mnode_id\u001b[0m\u001b[0;34m,\u001b[0m\u001b[0;34m\u001b[0m\u001b[0;34m\u001b[0m\u001b[0m\n\u001b[0;32m--> 556\u001b[0;31m                     \u001b[0mdepth\u001b[0m\u001b[0;34m=\u001b[0m\u001b[0mdepth\u001b[0m \u001b[0;34m+\u001b[0m \u001b[0;36m1\u001b[0m\u001b[0;34m,\u001b[0m\u001b[0;34m\u001b[0m\u001b[0;34m\u001b[0m\u001b[0m\n\u001b[0m\u001b[1;32m    557\u001b[0m                 )\n\u001b[1;32m    558\u001b[0m \u001b[0;34m\u001b[0m\u001b[0m\n",
      "\u001b[0;32m/opt/conda/lib/python3.7/site-packages/sklearn/tree/_export.py\u001b[0m in \u001b[0;36mrecurse\u001b[0;34m(self, tree, node_id, criterion, parent, depth)\u001b[0m\n\u001b[1;32m    519\u001b[0m \u001b[0;34m\u001b[0m\u001b[0m\n\u001b[1;32m    520\u001b[0m             self.out_file.write(\n\u001b[0;32m--> 521\u001b[0;31m                 \u001b[0;34m\"%d [label=%s\"\u001b[0m \u001b[0;34m%\u001b[0m \u001b[0;34m(\u001b[0m\u001b[0mnode_id\u001b[0m\u001b[0;34m,\u001b[0m \u001b[0mself\u001b[0m\u001b[0;34m.\u001b[0m\u001b[0mnode_to_str\u001b[0m\u001b[0;34m(\u001b[0m\u001b[0mtree\u001b[0m\u001b[0;34m,\u001b[0m \u001b[0mnode_id\u001b[0m\u001b[0;34m,\u001b[0m \u001b[0mcriterion\u001b[0m\u001b[0;34m)\u001b[0m\u001b[0;34m)\u001b[0m\u001b[0;34m\u001b[0m\u001b[0;34m\u001b[0m\u001b[0m\n\u001b[0m\u001b[1;32m    522\u001b[0m             )\n\u001b[1;32m    523\u001b[0m \u001b[0;34m\u001b[0m\u001b[0m\n",
      "\u001b[0;32m/opt/conda/lib/python3.7/site-packages/sklearn/tree/_export.py\u001b[0m in \u001b[0;36mnode_to_str\u001b[0;34m(self, tree, node_id, criterion)\u001b[0m\n\u001b[1;32m    365\u001b[0m                 \u001b[0mnode_string\u001b[0m \u001b[0;34m+=\u001b[0m \u001b[0;34m\"class = \"\u001b[0m\u001b[0;34m\u001b[0m\u001b[0;34m\u001b[0m\u001b[0m\n\u001b[1;32m    366\u001b[0m             \u001b[0;32mif\u001b[0m \u001b[0mself\u001b[0m\u001b[0;34m.\u001b[0m\u001b[0mclass_names\u001b[0m \u001b[0;32mis\u001b[0m \u001b[0;32mnot\u001b[0m \u001b[0;32mTrue\u001b[0m\u001b[0;34m:\u001b[0m\u001b[0;34m\u001b[0m\u001b[0;34m\u001b[0m\u001b[0m\n\u001b[0;32m--> 367\u001b[0;31m                 \u001b[0mclass_name\u001b[0m \u001b[0;34m=\u001b[0m \u001b[0mself\u001b[0m\u001b[0;34m.\u001b[0m\u001b[0mclass_names\u001b[0m\u001b[0;34m[\u001b[0m\u001b[0mnp\u001b[0m\u001b[0;34m.\u001b[0m\u001b[0margmax\u001b[0m\u001b[0;34m(\u001b[0m\u001b[0mvalue\u001b[0m\u001b[0;34m)\u001b[0m\u001b[0;34m]\u001b[0m\u001b[0;34m\u001b[0m\u001b[0;34m\u001b[0m\u001b[0m\n\u001b[0m\u001b[1;32m    368\u001b[0m             \u001b[0;32melse\u001b[0m\u001b[0;34m:\u001b[0m\u001b[0;34m\u001b[0m\u001b[0;34m\u001b[0m\u001b[0m\n\u001b[1;32m    369\u001b[0m                 class_name = \"y%s%s%s\" % (\n",
      "\u001b[0;32m/opt/conda/lib/python3.7/site-packages/pandas/core/series.py\u001b[0m in \u001b[0;36m__getitem__\u001b[0;34m(self, key)\u001b[0m\n\u001b[1;32m    940\u001b[0m \u001b[0;34m\u001b[0m\u001b[0m\n\u001b[1;32m    941\u001b[0m         \u001b[0;32melif\u001b[0m \u001b[0mkey_is_scalar\u001b[0m\u001b[0;34m:\u001b[0m\u001b[0;34m\u001b[0m\u001b[0;34m\u001b[0m\u001b[0m\n\u001b[0;32m--> 942\u001b[0;31m             \u001b[0;32mreturn\u001b[0m \u001b[0mself\u001b[0m\u001b[0;34m.\u001b[0m\u001b[0m_get_value\u001b[0m\u001b[0;34m(\u001b[0m\u001b[0mkey\u001b[0m\u001b[0;34m)\u001b[0m\u001b[0;34m\u001b[0m\u001b[0;34m\u001b[0m\u001b[0m\n\u001b[0m\u001b[1;32m    943\u001b[0m \u001b[0;34m\u001b[0m\u001b[0m\n\u001b[1;32m    944\u001b[0m         \u001b[0;32mif\u001b[0m \u001b[0mis_hashable\u001b[0m\u001b[0;34m(\u001b[0m\u001b[0mkey\u001b[0m\u001b[0;34m)\u001b[0m\u001b[0;34m:\u001b[0m\u001b[0;34m\u001b[0m\u001b[0;34m\u001b[0m\u001b[0m\n",
      "\u001b[0;32m/opt/conda/lib/python3.7/site-packages/pandas/core/series.py\u001b[0m in \u001b[0;36m_get_value\u001b[0;34m(self, label, takeable)\u001b[0m\n\u001b[1;32m   1049\u001b[0m \u001b[0;34m\u001b[0m\u001b[0m\n\u001b[1;32m   1050\u001b[0m         \u001b[0;31m# Similar to Index.get_value, but we do not fall back to positional\u001b[0m\u001b[0;34m\u001b[0m\u001b[0;34m\u001b[0m\u001b[0;34m\u001b[0m\u001b[0m\n\u001b[0;32m-> 1051\u001b[0;31m         \u001b[0mloc\u001b[0m \u001b[0;34m=\u001b[0m \u001b[0mself\u001b[0m\u001b[0;34m.\u001b[0m\u001b[0mindex\u001b[0m\u001b[0;34m.\u001b[0m\u001b[0mget_loc\u001b[0m\u001b[0;34m(\u001b[0m\u001b[0mlabel\u001b[0m\u001b[0;34m)\u001b[0m\u001b[0;34m\u001b[0m\u001b[0;34m\u001b[0m\u001b[0m\n\u001b[0m\u001b[1;32m   1052\u001b[0m         \u001b[0;32mreturn\u001b[0m \u001b[0mself\u001b[0m\u001b[0;34m.\u001b[0m\u001b[0mindex\u001b[0m\u001b[0;34m.\u001b[0m\u001b[0m_get_values_for_loc\u001b[0m\u001b[0;34m(\u001b[0m\u001b[0mself\u001b[0m\u001b[0;34m,\u001b[0m \u001b[0mloc\u001b[0m\u001b[0;34m,\u001b[0m \u001b[0mlabel\u001b[0m\u001b[0;34m)\u001b[0m\u001b[0;34m\u001b[0m\u001b[0;34m\u001b[0m\u001b[0m\n\u001b[1;32m   1053\u001b[0m \u001b[0;34m\u001b[0m\u001b[0m\n",
      "\u001b[0;32m/opt/conda/lib/python3.7/site-packages/pandas/core/indexes/base.py\u001b[0m in \u001b[0;36mget_loc\u001b[0;34m(self, key, method, tolerance)\u001b[0m\n\u001b[1;32m   3361\u001b[0m                 \u001b[0;32mreturn\u001b[0m \u001b[0mself\u001b[0m\u001b[0;34m.\u001b[0m\u001b[0m_engine\u001b[0m\u001b[0;34m.\u001b[0m\u001b[0mget_loc\u001b[0m\u001b[0;34m(\u001b[0m\u001b[0mcasted_key\u001b[0m\u001b[0;34m)\u001b[0m\u001b[0;34m\u001b[0m\u001b[0;34m\u001b[0m\u001b[0m\n\u001b[1;32m   3362\u001b[0m             \u001b[0;32mexcept\u001b[0m \u001b[0mKeyError\u001b[0m \u001b[0;32mas\u001b[0m \u001b[0merr\u001b[0m\u001b[0;34m:\u001b[0m\u001b[0;34m\u001b[0m\u001b[0;34m\u001b[0m\u001b[0m\n\u001b[0;32m-> 3363\u001b[0;31m                 \u001b[0;32mraise\u001b[0m \u001b[0mKeyError\u001b[0m\u001b[0;34m(\u001b[0m\u001b[0mkey\u001b[0m\u001b[0;34m)\u001b[0m \u001b[0;32mfrom\u001b[0m \u001b[0merr\u001b[0m\u001b[0;34m\u001b[0m\u001b[0;34m\u001b[0m\u001b[0m\n\u001b[0m\u001b[1;32m   3364\u001b[0m \u001b[0;34m\u001b[0m\u001b[0m\n\u001b[1;32m   3365\u001b[0m         \u001b[0;32mif\u001b[0m \u001b[0mis_scalar\u001b[0m\u001b[0;34m(\u001b[0m\u001b[0mkey\u001b[0m\u001b[0;34m)\u001b[0m \u001b[0;32mand\u001b[0m \u001b[0misna\u001b[0m\u001b[0;34m(\u001b[0m\u001b[0mkey\u001b[0m\u001b[0;34m)\u001b[0m \u001b[0;32mand\u001b[0m \u001b[0;32mnot\u001b[0m \u001b[0mself\u001b[0m\u001b[0;34m.\u001b[0m\u001b[0mhasnans\u001b[0m\u001b[0;34m:\u001b[0m\u001b[0;34m\u001b[0m\u001b[0;34m\u001b[0m\u001b[0m\n",
      "\u001b[0;31mKeyError\u001b[0m: 2"
     ]
    }
   ],
   "source": [
    "import graphviz \n",
    "dot_data = tree.export_graphviz(clf_gini, out_file=None, \n",
    "                              feature_names=X_train.columns,  \n",
    "                              class_names=y_train,  \n",
    "                              filled=True, rounded=True,  \n",
    "                              special_characters=True)\n",
    "\n",
    "graph = graphviz.Source(dot_data) \n",
    "\n",
    "graph "
   ]
  },
  {
   "cell_type": "code",
   "execution_count": 47,
   "metadata": {
    "editable": false,
    "execution": {
     "iopub.execute_input": "2022-11-16T17:05:40.085291Z",
     "iopub.status.busy": "2022-11-16T17:05:40.084811Z",
     "iopub.status.idle": "2022-11-16T17:05:40.096725Z",
     "shell.execute_reply": "2022-11-16T17:05:40.095358Z",
     "shell.execute_reply.started": "2022-11-16T17:05:40.085244Z"
    }
   },
   "outputs": [
    {
     "name": "stdout",
     "output_type": "stream",
     "text": [
      "Confusion matrix\n",
      "\n",
      " [[108   0   0]\n",
      " [  0 106   0]\n",
      " [  0   0 116]]\n"
     ]
    }
   ],
   "source": [
    "\n",
    "from sklearn.metrics import confusion_matrix\n",
    "\n",
    "cm = confusion_matrix(y_test, y_pred_en)\n",
    "\n",
    "print('Confusion matrix\\n\\n', cm)\n",
    "\n"
   ]
  },
  {
   "cell_type": "code",
   "execution_count": 48,
   "metadata": {
    "editable": false,
    "execution": {
     "iopub.execute_input": "2022-11-16T17:05:50.831270Z",
     "iopub.status.busy": "2022-11-16T17:05:50.830814Z",
     "iopub.status.idle": "2022-11-16T17:05:50.851388Z",
     "shell.execute_reply": "2022-11-16T17:05:50.850128Z",
     "shell.execute_reply.started": "2022-11-16T17:05:50.831235Z"
    }
   },
   "outputs": [
    {
     "name": "stdout",
     "output_type": "stream",
     "text": [
      "              precision    recall  f1-score   support\n",
      "\n",
      "           A       1.00      1.00      1.00       108\n",
      "           B       1.00      1.00      1.00       106\n",
      "           C       1.00      1.00      1.00       116\n",
      "\n",
      "    accuracy                           1.00       330\n",
      "   macro avg       1.00      1.00      1.00       330\n",
      "weighted avg       1.00      1.00      1.00       330\n",
      "\n"
     ]
    }
   ],
   "source": [
    "from sklearn.metrics import classification_report\n",
    "\n",
    "print(classification_report(y_test, y_pred_en))"
   ]
  }
 ],
 "metadata": {
  "kernelspec": {
   "display_name": "Python 3 (ipykernel)",
   "language": "python",
   "name": "python3"
  },
  "language_info": {
   "codemirror_mode": {
    "name": "ipython",
    "version": 3
   },
   "file_extension": ".py",
   "mimetype": "text/x-python",
   "name": "python",
   "nbconvert_exporter": "python",
   "pygments_lexer": "ipython3",
   "version": "3.11.5"
  }
 },
 "nbformat": 4,
 "nbformat_minor": 4
}
